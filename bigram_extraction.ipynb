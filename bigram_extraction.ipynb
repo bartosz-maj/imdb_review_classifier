{
  "cells": [
    {
      "cell_type": "code",
      "execution_count": 1,
      "metadata": {
        "colab": {
          "base_uri": "https://localhost:8080/"
        },
        "id": "EEXFP1ph7lwF",
        "outputId": "8a508d48-194a-4b6a-b1b3-b6749222ffc5"
      },
      "outputs": [
        {
          "name": "stdout",
          "output_type": "stream",
          "text": [
            "Requirement already satisfied: gensim in c:\\users\\bmaj3\\appdata\\local\\programs\\python\\python310\\lib\\site-packages (4.3.1)\n",
            "Requirement already satisfied: numpy>=1.18.5 in c:\\users\\bmaj3\\appdata\\local\\programs\\python\\python310\\lib\\site-packages (from gensim) (1.23.5)\n",
            "Requirement already satisfied: scipy>=1.7.0 in c:\\users\\bmaj3\\appdata\\local\\programs\\python\\python310\\lib\\site-packages (from gensim) (1.10.1)\n",
            "Requirement already satisfied: smart-open>=1.8.1 in c:\\users\\bmaj3\\appdata\\local\\programs\\python\\python310\\lib\\site-packages (from gensim) (6.3.0)\n"
          ]
        },
        {
          "name": "stderr",
          "output_type": "stream",
          "text": [
            "\n",
            "[notice] A new release of pip is available: 23.0.1 -> 23.1.2\n",
            "[notice] To update, run: python.exe -m pip install --upgrade pip\n"
          ]
        }
      ],
      "source": [
        "!pip install gensim"
      ]
    },
    {
      "cell_type": "code",
      "execution_count": 1,
      "metadata": {
        "id": "w-FY5hlD7ose"
      },
      "outputs": [],
      "source": [
        "import gensim\n",
        "import pandas as pd \n",
        "import numpy as np\n",
        "from sklearn.model_selection import train_test_split\n",
        "from sklearn.svm import SVC\n",
        "from sklearn.metrics import accuracy_score\n",
        "from sklearn.feature_extraction.text import TfidfVectorizer\n",
        "from scipy.sparse import csr_matrix\n",
        "from sklearn.decomposition import TruncatedSVD"
      ]
    },
    {
      "cell_type": "code",
      "execution_count": 2,
      "metadata": {
        "id": "DcAL403W7tzT"
      },
      "outputs": [],
      "source": [
        "text = pd.read_csv(\"IMDB Dataset.csv\")"
      ]
    },
    {
      "cell_type": "code",
      "execution_count": 3,
      "metadata": {
        "colab": {
          "base_uri": "https://localhost:8080/",
          "height": 206
        },
        "id": "UmC8CvNJ8qGk",
        "outputId": "1546baac-4e79-44fd-edf8-f4961b1f48f9"
      },
      "outputs": [
        {
          "data": {
            "text/html": [
              "<div>\n",
              "<style scoped>\n",
              "    .dataframe tbody tr th:only-of-type {\n",
              "        vertical-align: middle;\n",
              "    }\n",
              "\n",
              "    .dataframe tbody tr th {\n",
              "        vertical-align: top;\n",
              "    }\n",
              "\n",
              "    .dataframe thead th {\n",
              "        text-align: right;\n",
              "    }\n",
              "</style>\n",
              "<table border=\"1\" class=\"dataframe\">\n",
              "  <thead>\n",
              "    <tr style=\"text-align: right;\">\n",
              "      <th></th>\n",
              "      <th>review</th>\n",
              "      <th>sentiment</th>\n",
              "    </tr>\n",
              "  </thead>\n",
              "  <tbody>\n",
              "    <tr>\n",
              "      <th>0</th>\n",
              "      <td>One of the other reviewers has mentioned that ...</td>\n",
              "      <td>positive</td>\n",
              "    </tr>\n",
              "    <tr>\n",
              "      <th>1</th>\n",
              "      <td>A wonderful little production. &lt;br /&gt;&lt;br /&gt;The...</td>\n",
              "      <td>positive</td>\n",
              "    </tr>\n",
              "    <tr>\n",
              "      <th>2</th>\n",
              "      <td>I thought this was a wonderful way to spend ti...</td>\n",
              "      <td>positive</td>\n",
              "    </tr>\n",
              "    <tr>\n",
              "      <th>3</th>\n",
              "      <td>Basically there's a family where a little boy ...</td>\n",
              "      <td>negative</td>\n",
              "    </tr>\n",
              "    <tr>\n",
              "      <th>4</th>\n",
              "      <td>Petter Mattei's \"Love in the Time of Money\" is...</td>\n",
              "      <td>positive</td>\n",
              "    </tr>\n",
              "  </tbody>\n",
              "</table>\n",
              "</div>"
            ],
            "text/plain": [
              "                                              review sentiment\n",
              "0  One of the other reviewers has mentioned that ...  positive\n",
              "1  A wonderful little production. <br /><br />The...  positive\n",
              "2  I thought this was a wonderful way to spend ti...  positive\n",
              "3  Basically there's a family where a little boy ...  negative\n",
              "4  Petter Mattei's \"Love in the Time of Money\" is...  positive"
            ]
          },
          "execution_count": 3,
          "metadata": {},
          "output_type": "execute_result"
        }
      ],
      "source": [
        "text.head()"
      ]
    },
    {
      "cell_type": "code",
      "execution_count": 4,
      "metadata": {
        "colab": {
          "base_uri": "https://localhost:8080/",
          "height": 206
        },
        "id": "1XY94pq09N7M",
        "outputId": "7e414b74-19cc-4262-e01f-992d1efb4fb9"
      },
      "outputs": [
        {
          "data": {
            "text/html": [
              "<div>\n",
              "<style scoped>\n",
              "    .dataframe tbody tr th:only-of-type {\n",
              "        vertical-align: middle;\n",
              "    }\n",
              "\n",
              "    .dataframe tbody tr th {\n",
              "        vertical-align: top;\n",
              "    }\n",
              "\n",
              "    .dataframe thead th {\n",
              "        text-align: right;\n",
              "    }\n",
              "</style>\n",
              "<table border=\"1\" class=\"dataframe\">\n",
              "  <thead>\n",
              "    <tr style=\"text-align: right;\">\n",
              "      <th></th>\n",
              "      <th>review</th>\n",
              "      <th>sentiment</th>\n",
              "      <th>review_clean</th>\n",
              "    </tr>\n",
              "  </thead>\n",
              "  <tbody>\n",
              "    <tr>\n",
              "      <th>0</th>\n",
              "      <td>One of the other reviewers has mentioned that ...</td>\n",
              "      <td>positive</td>\n",
              "      <td>[one, of, the, other, reviewers, has, mentione...</td>\n",
              "    </tr>\n",
              "    <tr>\n",
              "      <th>1</th>\n",
              "      <td>A wonderful little production. &lt;br /&gt;&lt;br /&gt;The...</td>\n",
              "      <td>positive</td>\n",
              "      <td>[wonderful, little, production, br, br, the, f...</td>\n",
              "    </tr>\n",
              "    <tr>\n",
              "      <th>2</th>\n",
              "      <td>I thought this was a wonderful way to spend ti...</td>\n",
              "      <td>positive</td>\n",
              "      <td>[thought, this, was, wonderful, way, to, spend...</td>\n",
              "    </tr>\n",
              "    <tr>\n",
              "      <th>3</th>\n",
              "      <td>Basically there's a family where a little boy ...</td>\n",
              "      <td>negative</td>\n",
              "      <td>[basically, there, family, where, little, boy,...</td>\n",
              "    </tr>\n",
              "    <tr>\n",
              "      <th>4</th>\n",
              "      <td>Petter Mattei's \"Love in the Time of Money\" is...</td>\n",
              "      <td>positive</td>\n",
              "      <td>[petter, mattei, love, in, the, time, of, mone...</td>\n",
              "    </tr>\n",
              "  </tbody>\n",
              "</table>\n",
              "</div>"
            ],
            "text/plain": [
              "                                              review sentiment  \\\n",
              "0  One of the other reviewers has mentioned that ...  positive   \n",
              "1  A wonderful little production. <br /><br />The...  positive   \n",
              "2  I thought this was a wonderful way to spend ti...  positive   \n",
              "3  Basically there's a family where a little boy ...  negative   \n",
              "4  Petter Mattei's \"Love in the Time of Money\" is...  positive   \n",
              "\n",
              "                                        review_clean  \n",
              "0  [one, of, the, other, reviewers, has, mentione...  \n",
              "1  [wonderful, little, production, br, br, the, f...  \n",
              "2  [thought, this, was, wonderful, way, to, spend...  \n",
              "3  [basically, there, family, where, little, boy,...  \n",
              "4  [petter, mattei, love, in, the, time, of, mone...  "
            ]
          },
          "execution_count": 4,
          "metadata": {},
          "output_type": "execute_result"
        }
      ],
      "source": [
        "text[\"review_clean\"] = text[\"review\"].apply(lambda x: gensim.utils.simple_preprocess(x))\n",
        "text.head()"
      ]
    },
    {
      "cell_type": "code",
      "execution_count": 5,
      "metadata": {
        "id": "mFa6JLi89e8z"
      },
      "outputs": [],
      "source": [
        "clean_text = text[[\"review_clean\"]]\n",
        "labels = text[\"sentiment\"]"
      ]
    },
    {
      "cell_type": "code",
      "execution_count": 6,
      "metadata": {
        "colab": {
          "base_uri": "https://localhost:8080/"
        },
        "id": "0wfQ884eLuh7",
        "outputId": "aebf39c6-ab0a-49e3-e198-b7f553ddab79"
      },
      "outputs": [
        {
          "data": {
            "text/plain": [
              "50000"
            ]
          },
          "execution_count": 6,
          "metadata": {},
          "output_type": "execute_result"
        }
      ],
      "source": [
        "len(clean_text)"
      ]
    },
    {
      "cell_type": "code",
      "execution_count": 7,
      "metadata": {
        "id": "71moLCX6I5q9"
      },
      "outputs": [],
      "source": [
        "corpus = []\n",
        "for review in clean_text[\"review_clean\"]:\n",
        "  corpus.append(\" \".join(review))"
      ]
    },
    {
      "cell_type": "code",
      "execution_count": 8,
      "metadata": {
        "colab": {
          "base_uri": "https://localhost:8080/"
        },
        "id": "vJ0o4p0eLE3b",
        "outputId": "076c1a00-39eb-4dcf-ffe5-9c2e05ad4bf3"
      },
      "outputs": [
        {
          "data": {
            "text/plain": [
              "50000"
            ]
          },
          "execution_count": 8,
          "metadata": {},
          "output_type": "execute_result"
        }
      ],
      "source": [
        "len(corpus)"
      ]
    },
    {
      "cell_type": "code",
      "execution_count": 9,
      "metadata": {
        "colab": {
          "base_uri": "https://localhost:8080/"
        },
        "id": "fqW0SzBVLtIo",
        "outputId": "5606b6c0-5a17-4a0e-8717-30722c3f6b5c"
      },
      "outputs": [
        {
          "name": "stderr",
          "output_type": "stream",
          "text": [
            "C:\\Users\\bmaj3\\AppData\\Local\\Temp\\ipykernel_13532\\1042297266.py:1: SettingWithCopyWarning: \n",
            "A value is trying to be set on a copy of a slice from a DataFrame.\n",
            "Try using .loc[row_indexer,col_indexer] = value instead\n",
            "\n",
            "See the caveats in the documentation: https://pandas.pydata.org/pandas-docs/stable/user_guide/indexing.html#returning-a-view-versus-a-copy\n",
            "  clean_text[\"corpus\"] = corpus\n"
          ]
        }
      ],
      "source": [
        "clean_text[\"corpus\"] = corpus"
      ]
    },
    {
      "cell_type": "code",
      "execution_count": 10,
      "metadata": {
        "colab": {
          "base_uri": "https://localhost:8080/"
        },
        "id": "uTbQx2pbL_Ec",
        "outputId": "1e340df7-b101-4c55-ba0f-303c6c2c0247"
      },
      "outputs": [
        {
          "data": {
            "text/plain": [
              "50000"
            ]
          },
          "execution_count": 10,
          "metadata": {},
          "output_type": "execute_result"
        }
      ],
      "source": [
        "len(clean_text)"
      ]
    },
    {
      "cell_type": "code",
      "execution_count": 11,
      "metadata": {
        "colab": {
          "base_uri": "https://localhost:8080/",
          "height": 423
        },
        "id": "_ULo3isJMB1f",
        "outputId": "6f10d5e4-f652-4ad0-b090-deddfb19ea8e"
      },
      "outputs": [
        {
          "data": {
            "text/html": [
              "<div>\n",
              "<style scoped>\n",
              "    .dataframe tbody tr th:only-of-type {\n",
              "        vertical-align: middle;\n",
              "    }\n",
              "\n",
              "    .dataframe tbody tr th {\n",
              "        vertical-align: top;\n",
              "    }\n",
              "\n",
              "    .dataframe thead th {\n",
              "        text-align: right;\n",
              "    }\n",
              "</style>\n",
              "<table border=\"1\" class=\"dataframe\">\n",
              "  <thead>\n",
              "    <tr style=\"text-align: right;\">\n",
              "      <th></th>\n",
              "      <th>review_clean</th>\n",
              "      <th>corpus</th>\n",
              "    </tr>\n",
              "  </thead>\n",
              "  <tbody>\n",
              "    <tr>\n",
              "      <th>0</th>\n",
              "      <td>[one, of, the, other, reviewers, has, mentione...</td>\n",
              "      <td>one of the other reviewers has mentioned that ...</td>\n",
              "    </tr>\n",
              "    <tr>\n",
              "      <th>1</th>\n",
              "      <td>[wonderful, little, production, br, br, the, f...</td>\n",
              "      <td>wonderful little production br br the filming ...</td>\n",
              "    </tr>\n",
              "    <tr>\n",
              "      <th>2</th>\n",
              "      <td>[thought, this, was, wonderful, way, to, spend...</td>\n",
              "      <td>thought this was wonderful way to spend time o...</td>\n",
              "    </tr>\n",
              "    <tr>\n",
              "      <th>3</th>\n",
              "      <td>[basically, there, family, where, little, boy,...</td>\n",
              "      <td>basically there family where little boy jake t...</td>\n",
              "    </tr>\n",
              "    <tr>\n",
              "      <th>4</th>\n",
              "      <td>[petter, mattei, love, in, the, time, of, mone...</td>\n",
              "      <td>petter mattei love in the time of money is vis...</td>\n",
              "    </tr>\n",
              "    <tr>\n",
              "      <th>...</th>\n",
              "      <td>...</td>\n",
              "      <td>...</td>\n",
              "    </tr>\n",
              "    <tr>\n",
              "      <th>49995</th>\n",
              "      <td>[thought, this, movie, did, down, right, good,...</td>\n",
              "      <td>thought this movie did down right good job it ...</td>\n",
              "    </tr>\n",
              "    <tr>\n",
              "      <th>49996</th>\n",
              "      <td>[bad, plot, bad, dialogue, bad, acting, idioti...</td>\n",
              "      <td>bad plot bad dialogue bad acting idiotic direc...</td>\n",
              "    </tr>\n",
              "    <tr>\n",
              "      <th>49997</th>\n",
              "      <td>[am, catholic, taught, in, parochial, elementa...</td>\n",
              "      <td>am catholic taught in parochial elementary sch...</td>\n",
              "    </tr>\n",
              "    <tr>\n",
              "      <th>49998</th>\n",
              "      <td>[going, to, have, to, disagree, with, the, pre...</td>\n",
              "      <td>going to have to disagree with the previous co...</td>\n",
              "    </tr>\n",
              "    <tr>\n",
              "      <th>49999</th>\n",
              "      <td>[no, one, expects, the, star, trek, movies, to...</td>\n",
              "      <td>no one expects the star trek movies to be high...</td>\n",
              "    </tr>\n",
              "  </tbody>\n",
              "</table>\n",
              "<p>50000 rows × 2 columns</p>\n",
              "</div>"
            ],
            "text/plain": [
              "                                            review_clean  \\\n",
              "0      [one, of, the, other, reviewers, has, mentione...   \n",
              "1      [wonderful, little, production, br, br, the, f...   \n",
              "2      [thought, this, was, wonderful, way, to, spend...   \n",
              "3      [basically, there, family, where, little, boy,...   \n",
              "4      [petter, mattei, love, in, the, time, of, mone...   \n",
              "...                                                  ...   \n",
              "49995  [thought, this, movie, did, down, right, good,...   \n",
              "49996  [bad, plot, bad, dialogue, bad, acting, idioti...   \n",
              "49997  [am, catholic, taught, in, parochial, elementa...   \n",
              "49998  [going, to, have, to, disagree, with, the, pre...   \n",
              "49999  [no, one, expects, the, star, trek, movies, to...   \n",
              "\n",
              "                                                  corpus  \n",
              "0      one of the other reviewers has mentioned that ...  \n",
              "1      wonderful little production br br the filming ...  \n",
              "2      thought this was wonderful way to spend time o...  \n",
              "3      basically there family where little boy jake t...  \n",
              "4      petter mattei love in the time of money is vis...  \n",
              "...                                                  ...  \n",
              "49995  thought this movie did down right good job it ...  \n",
              "49996  bad plot bad dialogue bad acting idiotic direc...  \n",
              "49997  am catholic taught in parochial elementary sch...  \n",
              "49998  going to have to disagree with the previous co...  \n",
              "49999  no one expects the star trek movies to be high...  \n",
              "\n",
              "[50000 rows x 2 columns]"
            ]
          },
          "execution_count": 11,
          "metadata": {},
          "output_type": "execute_result"
        }
      ],
      "source": [
        "clean_text"
      ]
    },
    {
      "cell_type": "code",
      "execution_count": 12,
      "metadata": {
        "id": "ml7DQjhYBf7k"
      },
      "outputs": [],
      "source": [
        "X_train, X_test, y_train, y_test = train_test_split(clean_text, \n",
        "                                                    labels, \n",
        "                                                    test_size=0.30, \n",
        "                                                    random_state=42)"
      ]
    },
    {
      "cell_type": "code",
      "execution_count": 13,
      "metadata": {
        "id": "sVgKX5y3KNlD"
      },
      "outputs": [],
      "source": [
        "tfidf_vect = TfidfVectorizer(max_features = 20000, ngram_range = (1,2) )\n",
        "X_train_tfidf = tfidf_vect.fit_transform(X_train[\"corpus\"])\n",
        "X_test_tfidf = tfidf_vect.transform(X_test[\"corpus\"])"
      ]
    },
    {
      "cell_type": "code",
      "execution_count": 14,
      "metadata": {
        "id": "z2ryaYZeZLZG"
      },
      "outputs": [],
      "source": [
        "svd = TruncatedSVD(n_components = 2000, n_iter=7, random_state=42)\n",
        "X_train_reduced = svd.fit_transform(X_train_tfidf)\n",
        "X_test_reduced = svd.transform(X_test_tfidf)"
      ]
    },
    {
      "cell_type": "code",
      "execution_count": 15,
      "metadata": {},
      "outputs": [
        {
          "name": "stdout",
          "output_type": "stream",
          "text": [
            "0.4523164557189412\n"
          ]
        }
      ],
      "source": [
        "print(sum(svd.explained_variance_))"
      ]
    },
    {
      "cell_type": "code",
      "execution_count": 16,
      "metadata": {
        "id": "0nROyGJRPWLb"
      },
      "outputs": [],
      "source": [
        "X_train_tfidf_df = pd.DataFrame(X_train_reduced, index = X_train.index, columns = [i for i in range(501, 2501)])\n",
        "X_test_tfidf_df = pd.DataFrame(X_test_reduced, index = X_test.index, columns = [i for i in range(501, 2501)])"
      ]
    },
    {
      "cell_type": "code",
      "execution_count": 17,
      "metadata": {
        "id": "gJ4pJR0KBtcZ"
      },
      "outputs": [],
      "source": [
        "w2v_model = gensim.models.Word2Vec(X_train[\"review_clean\"],\n",
        "                                   vector_size=500,\n",
        "                                   window=5,\n",
        "                                   min_count=2)"
      ]
    },
    {
      "cell_type": "code",
      "execution_count": 18,
      "metadata": {
        "id": "m1oxYI9VB4R7"
      },
      "outputs": [],
      "source": [
        "words = set(w2v_model.wv.index_to_key)\n",
        "X_train_vect = np.array([np.array([w2v_model.wv[i] for i in ls if i in words]) for ls in X_train[\"review_clean\"]], dtype = \"object\")\n",
        "X_test_vect = np.array([np.array([w2v_model.wv[i] for i in ls if i in words]) for ls in X_test[\"review_clean\"]], dtype = \"object\")"
      ]
    },
    {
      "cell_type": "code",
      "execution_count": 19,
      "metadata": {
        "id": "3yATe902ELz6"
      },
      "outputs": [],
      "source": [
        "# Compute sentence vectors by averaging the word vectors for the words contained in the sentence\n",
        "X_train_vect_avg = []\n",
        "for v in X_train_vect:\n",
        "    if v.size:\n",
        "        X_train_vect_avg.append(v.mean(axis=0))\n",
        "    else:\n",
        "        X_train_vect_avg.append(np.zeros(100, dtype=float))\n",
        "        \n",
        "X_test_vect_avg = []\n",
        "for v in X_test_vect:\n",
        "    if v.size:\n",
        "        X_test_vect_avg.append(v.mean(axis=0))\n",
        "    else:\n",
        "        X_test_vect_avg.append(np.zeros(100, dtype=float))"
      ]
    },
    {
      "cell_type": "code",
      "execution_count": 20,
      "metadata": {
        "id": "8xFDc8hFI0T8"
      },
      "outputs": [],
      "source": [
        "X_train_df = pd.DataFrame(X_train_vect_avg, index = X_train.index)\n",
        "X_test_df = pd.DataFrame(X_test_vect_avg, index = X_test.index)"
      ]
    },
    {
      "cell_type": "code",
      "execution_count": 21,
      "metadata": {
        "id": "dBpIx_hkeJ24"
      },
      "outputs": [],
      "source": [
        "X_train = pd.concat([X_train_df, X_train_tfidf_df], axis = 1)\n",
        "X_test = pd.concat([X_test_df, X_test_tfidf_df], axis = 1)"
      ]
    },
    {
      "cell_type": "code",
      "execution_count": 22,
      "metadata": {
        "id": "3LbYhUo3eJ25"
      },
      "outputs": [],
      "source": [
        "X_train.to_csv(\"X_train.csv\",index = False)\n",
        "X_test.to_csv(\"X_test.csv\",index = False)\n",
        "y_train.to_csv(\"y_train.csv\", index = False)\n",
        "y_test.to_csv(\"y_test.csv\",index = False)"
      ]
    }
  ],
  "metadata": {
    "colab": {
      "provenance": []
    },
    "kernelspec": {
      "display_name": "Python 3",
      "name": "python3"
    },
    "language_info": {
      "codemirror_mode": {
        "name": "ipython",
        "version": 3
      },
      "file_extension": ".py",
      "mimetype": "text/x-python",
      "name": "python",
      "nbconvert_exporter": "python",
      "pygments_lexer": "ipython3",
      "version": "3.10.0"
    }
  },
  "nbformat": 4,
  "nbformat_minor": 0
}
